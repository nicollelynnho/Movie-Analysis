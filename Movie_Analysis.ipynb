{
 "cells": [
  {
   "cell_type": "markdown",
   "metadata": {},
   "source": [
    "Movie Database Analysis by Nicolle Ho"
   ]
  },
  {
   "cell_type": "code",
   "execution_count": 1,
   "metadata": {},
   "outputs": [],
   "source": [
    "#Ask Questions"
   ]
  },
  {
   "cell_type": "markdown",
   "metadata": {},
   "source": [
    "This report analyzes the tmbd-movies database. The purpose of the analysis is to gain insight into movie popularity. What are the attributes that are associated with movies that are popular?"
   ]
  },
  {
   "cell_type": "code",
   "execution_count": 2,
   "metadata": {},
   "outputs": [],
   "source": [
    "#Wrangle Data"
   ]
  },
  {
   "cell_type": "code",
   "execution_count": 3,
   "metadata": {
    "scrolled": true
   },
   "outputs": [],
   "source": [
    "import pandas as pd\n",
    "import matplotlib.pyplot as plt\n",
    "import numpy as np\n",
    "from matplotlib.ticker import MaxNLocator\n",
    "from collections import namedtuple"
   ]
  },
  {
   "cell_type": "code",
   "execution_count": 4,
   "metadata": {},
   "outputs": [
    {
     "data": {
      "text/plain": [
       "(10866, 21)"
      ]
     },
     "execution_count": 4,
     "metadata": {},
     "output_type": "execute_result"
    }
   ],
   "source": [
    "#Read Database\n",
    "df = pd.read_csv(\"tmdb-movies.csv\")\n",
    "df.head()\n",
    "df.shape"
   ]
  },
  {
   "cell_type": "code",
   "execution_count": 5,
   "metadata": {},
   "outputs": [
    {
     "data": {
      "text/plain": [
       "id                         0\n",
       "imdb_id                   10\n",
       "popularity                 0\n",
       "budget                     0\n",
       "revenue                    0\n",
       "original_title             0\n",
       "cast                      76\n",
       "homepage                7930\n",
       "director                  44\n",
       "tagline                 2824\n",
       "keywords                1493\n",
       "overview                   4\n",
       "runtime                    0\n",
       "genres                    23\n",
       "production_companies    1030\n",
       "release_date               0\n",
       "vote_count                 0\n",
       "vote_average               0\n",
       "release_year               0\n",
       "budget_adj                 0\n",
       "revenue_adj                0\n",
       "dtype: int64"
      ]
     },
     "execution_count": 5,
     "metadata": {},
     "output_type": "execute_result"
    }
   ],
   "source": [
    "#Check for missing values\n",
    "df.isnull()\n",
    "df.isnull().sum()\n",
    "#below there are missing values for several fields "
   ]
  },
  {
   "cell_type": "code",
   "execution_count": 6,
   "metadata": {},
   "outputs": [],
   "source": [
    "#Dont need to drop null items because the fields we are analyzing do not have nulls\n",
    "#df = df.dropna()\n",
    "#df.isnull().sum()"
   ]
  },
  {
   "cell_type": "code",
   "execution_count": 7,
   "metadata": {},
   "outputs": [],
   "source": [
    "#check for duplicate rows \n",
    "df = df.drop_duplicates(keep = 'first')\n",
    "#values return false so it is not a duplicate row"
   ]
  },
  {
   "cell_type": "code",
   "execution_count": 8,
   "metadata": {},
   "outputs": [
    {
     "data": {
      "text/plain": [
       "1"
      ]
     },
     "execution_count": 8,
     "metadata": {},
     "output_type": "execute_result"
    }
   ],
   "source": [
    "#check for unique responses to see if there are hidden trues\n",
    "df.duplicated(keep='first').nunique()\n",
    "#only one unique response, so all values are False (not duplicated)"
   ]
  },
  {
   "cell_type": "code",
   "execution_count": 9,
   "metadata": {},
   "outputs": [
    {
     "data": {
      "text/plain": [
       "id                        int64\n",
       "imdb_id                  object\n",
       "popularity              float64\n",
       "budget                    int64\n",
       "revenue                   int64\n",
       "original_title           object\n",
       "cast                     object\n",
       "homepage                 object\n",
       "director                 object\n",
       "tagline                  object\n",
       "keywords                 object\n",
       "overview                 object\n",
       "runtime                   int64\n",
       "genres                   object\n",
       "production_companies     object\n",
       "release_date             object\n",
       "vote_count                int64\n",
       "vote_average            float64\n",
       "release_year              int64\n",
       "budget_adj              float64\n",
       "revenue_adj             float64\n",
       "dtype: object"
      ]
     },
     "execution_count": 9,
     "metadata": {},
     "output_type": "execute_result"
    }
   ],
   "source": [
    "#check data types\n",
    "df.dtypes\n",
    "#the object data types have many values separated by | so this requires more cleaning"
   ]
  },
  {
   "cell_type": "code",
   "execution_count": 10,
   "metadata": {},
   "outputs": [
    {
     "name": "stdout",
     "output_type": "stream",
     "text": [
      "count    10865.000000\n",
      "mean         0.646446\n",
      "std          1.000231\n",
      "min          0.000065\n",
      "25%          0.207575\n",
      "50%          0.383831\n",
      "75%          0.713857\n",
      "max         32.985763\n",
      "Name: popularity, dtype: float64\n"
     ]
    },
    {
     "data": {
      "text/plain": [
       "Text(0, 0.5, 'Count')"
      ]
     },
     "execution_count": 10,
     "metadata": {},
     "output_type": "execute_result"
    },
    {
     "data": {
      "image/png": "[encoded data removed]",
      "text/plain": [
       "<Figure size 432x288 with 1 Axes>"
      ]
     },
     "metadata": {
      "needs_background": "light"
     },
     "output_type": "display_data"
    }
   ],
   "source": [
    "#Determine distribution of popularity and check for outliers\n",
    "print(df['popularity'].describe())\n",
    "pop = df['popularity']\n",
    "n, bins, patches = plt.hist(x=pop, bins=40)\n",
    "plt.title('Popularity Distribution')\n",
    "plt.xlabel('Popularity Score')\n",
    "plt.ylabel('Count')"
   ]
  },
  {
   "cell_type": "markdown",
   "metadata": {},
   "source": [
    "This graph shows how popularity scores are distributed across 10866 movies. The popularity scores are skewed right, so there are fewer movies that are popular. This is intuitive. We can also see that there are several outliers in the upperbound. There are several movies that are much more popular than the rest of the movies. "
   ]
  },
  {
   "cell_type": "code",
   "execution_count": 11,
   "metadata": {},
   "outputs": [
    {
     "data": {
      "text/plain": [
       "Text(0.5, 0, 'Popularity Score')"
      ]
     },
     "execution_count": 11,
     "metadata": {},
     "output_type": "execute_result"
    },
    {
     "data": {
      "image/png": "[encoded data removed]",
      "text/plain": [
       "<Figure size 432x288 with 1 Axes>"
      ]
     },
     "metadata": {
      "needs_background": "light"
     },
     "output_type": "display_data"
    }
   ],
   "source": [
    "#Boxplot to view distribution and check for outliers\n",
    "fig1, ax1 = plt.subplots()\n",
    "ax1.set_title('Popularity Boxplot')\n",
    "ax1.boxplot(pop, vert = False, notch = True)\n",
    "ax1.set_xlabel('Popularity Score')\n",
    "#Another view to show that popularity is skewed right\n",
    "#Popularity scores are concentrated on the lower end"
   ]
  },
  {
   "cell_type": "markdown",
   "metadata": {},
   "source": [
    "This boxplot is another view of how popularity is distributed across all the movies. This view is interesting because we can see where are the quartiles. The first three quartiles are very concentrated in the lower popularity score region. The last quartile has the largest range. This confirms that the majority of movies are not popular. There is high variability in popularity for the popular movies. Because of these large outliers and variation, both the high and the low outliers will be excluded from the rest of the analysis. "
   ]
  },
  {
   "cell_type": "code",
   "execution_count": 13,
   "metadata": {},
   "outputs": [
    {
     "data": {
      "text/html": [
       "<div>\n",
       "<style scoped>\n",
       "    .dataframe tbody tr th:only-of-type {\n",
       "        vertical-align: middle;\n",
       "    }\n",
       "\n",
       "    .dataframe tbody tr th {\n",
       "        vertical-align: top;\n",
       "    }\n",
       "\n",
       "    .dataframe thead th {\n",
       "        text-align: right;\n",
       "    }\n",
       "</style>\n",
       "<table border=\"1\" class=\"dataframe\">\n",
       "  <thead>\n",
       "    <tr style=\"text-align: right;\">\n",
       "      <th></th>\n",
       "      <th>id</th>\n",
       "      <th>imdb_id</th>\n",
       "      <th>popularity</th>\n",
       "      <th>budget</th>\n",
       "      <th>revenue</th>\n",
       "      <th>original_title</th>\n",
       "      <th>cast</th>\n",
       "      <th>homepage</th>\n",
       "      <th>director</th>\n",
       "      <th>tagline</th>\n",
       "      <th>...</th>\n",
       "      <th>overview</th>\n",
       "      <th>runtime</th>\n",
       "      <th>genres</th>\n",
       "      <th>production_companies</th>\n",
       "      <th>release_date</th>\n",
       "      <th>vote_count</th>\n",
       "      <th>vote_average</th>\n",
       "      <th>release_year</th>\n",
       "      <th>budget_adj</th>\n",
       "      <th>revenue_adj</th>\n",
       "    </tr>\n",
       "  </thead>\n",
       "  <tbody>\n",
       "    <tr>\n",
       "      <th>104</th>\n",
       "      <td>188222</td>\n",
       "      <td>tt1674771</td>\n",
       "      <td>1.532997</td>\n",
       "      <td>30000000</td>\n",
       "      <td>49263404</td>\n",
       "      <td>Entourage</td>\n",
       "      <td>Jeremy Piven|Adrian Grenier|Jerry Ferrara|Kevi...</td>\n",
       "      <td>NaN</td>\n",
       "      <td>Doug Ellin</td>\n",
       "      <td>Dream Large. Live Larger.</td>\n",
       "      <td>...</td>\n",
       "      <td>Movie star Vincent Chase, together with his bo...</td>\n",
       "      <td>104</td>\n",
       "      <td>Comedy</td>\n",
       "      <td>Warner Bros.|Closest to the Hole Productions</td>\n",
       "      <td>6/3/15</td>\n",
       "      <td>364</td>\n",
       "      <td>6.2</td>\n",
       "      <td>2015</td>\n",
       "      <td>2.759999e+07</td>\n",
       "      <td>4.532231e+07</td>\n",
       "    </tr>\n",
       "    <tr>\n",
       "      <th>105</th>\n",
       "      <td>252838</td>\n",
       "      <td>tt0884732</td>\n",
       "      <td>1.510096</td>\n",
       "      <td>23000000</td>\n",
       "      <td>79799880</td>\n",
       "      <td>The Wedding Ringer</td>\n",
       "      <td>Kevin Hart|Josh Gad|Kaley Cuoco|Affion Crocket...</td>\n",
       "      <td>NaN</td>\n",
       "      <td>Jeremy Garelick</td>\n",
       "      <td>He's the best man... money can buy.</td>\n",
       "      <td>...</td>\n",
       "      <td>Doug Harris is a loveable but socially awkward...</td>\n",
       "      <td>101</td>\n",
       "      <td>Comedy</td>\n",
       "      <td>Miramax Films|Screen Gems|LStar Capital</td>\n",
       "      <td>1/16/15</td>\n",
       "      <td>446</td>\n",
       "      <td>6.5</td>\n",
       "      <td>2015</td>\n",
       "      <td>2.115999e+07</td>\n",
       "      <td>7.341586e+07</td>\n",
       "    </tr>\n",
       "    <tr>\n",
       "      <th>106</th>\n",
       "      <td>273477</td>\n",
       "      <td>tt1727776</td>\n",
       "      <td>1.499614</td>\n",
       "      <td>15000000</td>\n",
       "      <td>14860766</td>\n",
       "      <td>Scouts Guide to the Zombie Apocalypse</td>\n",
       "      <td>Tye Sheridan|Logan Miller|Joey Morgan|Sarah Du...</td>\n",
       "      <td>http://www.scoutsandzombiesmovie.com/</td>\n",
       "      <td>Christopher B. Landon</td>\n",
       "      <td>Always bring protection.</td>\n",
       "      <td>...</td>\n",
       "      <td>Three scouts and lifelong friends join forces ...</td>\n",
       "      <td>93</td>\n",
       "      <td>Comedy|Horror</td>\n",
       "      <td>Paramount Pictures|Oops Doughnuts Productions|...</td>\n",
       "      <td>10/23/15</td>\n",
       "      <td>288</td>\n",
       "      <td>6.2</td>\n",
       "      <td>2015</td>\n",
       "      <td>1.379999e+07</td>\n",
       "      <td>1.367190e+07</td>\n",
       "    </tr>\n",
       "    <tr>\n",
       "      <th>107</th>\n",
       "      <td>298312</td>\n",
       "      <td>tt3567288</td>\n",
       "      <td>1.495112</td>\n",
       "      <td>5000000</td>\n",
       "      <td>98450062</td>\n",
       "      <td>The Visit</td>\n",
       "      <td>Olivia DeJonge|Ed Oxenbould|Kathryn Hahn|Benja...</td>\n",
       "      <td>http://www.stayinyourroom.com/</td>\n",
       "      <td>M. Night Shyamalan</td>\n",
       "      <td>No one loves you like your grandparents.</td>\n",
       "      <td>...</td>\n",
       "      <td>The terrifying story of a brother and sister w...</td>\n",
       "      <td>94</td>\n",
       "      <td>Horror|Thriller</td>\n",
       "      <td>Blumhouse Productions|Blinding Edge Pictures</td>\n",
       "      <td>9/10/15</td>\n",
       "      <td>729</td>\n",
       "      <td>5.9</td>\n",
       "      <td>2015</td>\n",
       "      <td>4.599998e+06</td>\n",
       "      <td>9.057402e+07</td>\n",
       "    </tr>\n",
       "    <tr>\n",
       "      <th>108</th>\n",
       "      <td>261023</td>\n",
       "      <td>tt1355683</td>\n",
       "      <td>1.483246</td>\n",
       "      <td>53000000</td>\n",
       "      <td>99775678</td>\n",
       "      <td>Black Mass</td>\n",
       "      <td>Johnny Depp|Joel Edgerton|Benedict Cumberbatch...</td>\n",
       "      <td>NaN</td>\n",
       "      <td>Scott Cooper</td>\n",
       "      <td>Keep your enemies close.</td>\n",
       "      <td>...</td>\n",
       "      <td>The true story of Whitey Bulger, the brother o...</td>\n",
       "      <td>122</td>\n",
       "      <td>Crime|Drama</td>\n",
       "      <td>Infinitum Nihil|Head Gear Films|Cross Creek Pi...</td>\n",
       "      <td>9/4/15</td>\n",
       "      <td>848</td>\n",
       "      <td>6.3</td>\n",
       "      <td>2015</td>\n",
       "      <td>4.875998e+07</td>\n",
       "      <td>9.179358e+07</td>\n",
       "    </tr>\n",
       "  </tbody>\n",
       "</table>\n",
       "<p>5 rows × 21 columns</p>\n",
       "</div>"
      ],
      "text/plain": [
       "         id    imdb_id  popularity    budget   revenue  \\\n",
       "104  188222  tt1674771    1.532997  30000000  49263404   \n",
       "105  252838  tt0884732    1.510096  23000000  79799880   \n",
       "106  273477  tt1727776    1.499614  15000000  14860766   \n",
       "107  298312  tt3567288    1.495112   5000000  98450062   \n",
       "108  261023  tt1355683    1.483246  53000000  99775678   \n",
       "\n",
       "                            original_title  \\\n",
       "104                              Entourage   \n",
       "105                     The Wedding Ringer   \n",
       "106  Scouts Guide to the Zombie Apocalypse   \n",
       "107                              The Visit   \n",
       "108                             Black Mass   \n",
       "\n",
       "                                                  cast  \\\n",
       "104  Jeremy Piven|Adrian Grenier|Jerry Ferrara|Kevi...   \n",
       "105  Kevin Hart|Josh Gad|Kaley Cuoco|Affion Crocket...   \n",
       "106  Tye Sheridan|Logan Miller|Joey Morgan|Sarah Du...   \n",
       "107  Olivia DeJonge|Ed Oxenbould|Kathryn Hahn|Benja...   \n",
       "108  Johnny Depp|Joel Edgerton|Benedict Cumberbatch...   \n",
       "\n",
       "                                  homepage               director  \\\n",
       "104                                    NaN             Doug Ellin   \n",
       "105                                    NaN        Jeremy Garelick   \n",
       "106  http://www.scoutsandzombiesmovie.com/  Christopher B. Landon   \n",
       "107         http://www.stayinyourroom.com/     M. Night Shyamalan   \n",
       "108                                    NaN           Scott Cooper   \n",
       "\n",
       "                                      tagline      ...       \\\n",
       "104                 Dream Large. Live Larger.      ...        \n",
       "105       He's the best man... money can buy.      ...        \n",
       "106                  Always bring protection.      ...        \n",
       "107  No one loves you like your grandparents.      ...        \n",
       "108                  Keep your enemies close.      ...        \n",
       "\n",
       "                                              overview runtime  \\\n",
       "104  Movie star Vincent Chase, together with his bo...     104   \n",
       "105  Doug Harris is a loveable but socially awkward...     101   \n",
       "106  Three scouts and lifelong friends join forces ...      93   \n",
       "107  The terrifying story of a brother and sister w...      94   \n",
       "108  The true story of Whitey Bulger, the brother o...     122   \n",
       "\n",
       "              genres                               production_companies  \\\n",
       "104           Comedy       Warner Bros.|Closest to the Hole Productions   \n",
       "105           Comedy            Miramax Films|Screen Gems|LStar Capital   \n",
       "106    Comedy|Horror  Paramount Pictures|Oops Doughnuts Productions|...   \n",
       "107  Horror|Thriller       Blumhouse Productions|Blinding Edge Pictures   \n",
       "108      Crime|Drama  Infinitum Nihil|Head Gear Films|Cross Creek Pi...   \n",
       "\n",
       "    release_date vote_count  vote_average  release_year    budget_adj  \\\n",
       "104       6/3/15        364           6.2          2015  2.759999e+07   \n",
       "105      1/16/15        446           6.5          2015  2.115999e+07   \n",
       "106     10/23/15        288           6.2          2015  1.379999e+07   \n",
       "107      9/10/15        729           5.9          2015  4.599998e+06   \n",
       "108       9/4/15        848           6.3          2015  4.875998e+07   \n",
       "\n",
       "      revenue_adj  \n",
       "104  4.532231e+07  \n",
       "105  7.341586e+07  \n",
       "106  1.367190e+07  \n",
       "107  9.057402e+07  \n",
       "108  9.179358e+07  \n",
       "\n",
       "[5 rows x 21 columns]"
      ]
     },
     "execution_count": 13,
     "metadata": {},
     "output_type": "execute_result"
    }
   ],
   "source": [
    "#subset of the inner 50% to remove outliers\n",
    "df2 = df.loc[(df.popularity > 0.384079) & (df.popularity < 1.538639)]\n",
    "df2.head()"
   ]
  },
  {
   "cell_type": "code",
   "execution_count": 14,
   "metadata": {},
   "outputs": [
    {
     "name": "stdout",
     "output_type": "stream",
     "text": [
      "count    4540.000000\n",
      "mean        0.722664\n",
      "std         0.292626\n",
      "min         0.384097\n",
      "25%         0.481688\n",
      "50%         0.630672\n",
      "75%         0.906316\n",
      "max         1.538276\n",
      "Name: popularity, dtype: float64\n"
     ]
    },
    {
     "data": {
      "text/plain": [
       "Text(0, 0.5, 'Count')"
      ]
     },
     "execution_count": 14,
     "metadata": {},
     "output_type": "execute_result"
    },
    {
     "data": {
      "image/png": "[encoded data removed]",
      "text/plain": [
       "<Figure size 432x288 with 1 Axes>"
      ]
     },
     "metadata": {
      "needs_background": "light"
     },
     "output_type": "display_data"
    }
   ],
   "source": [
    "#Determine popularity distribution of inner 50%\n",
    "print(df2['popularity'].describe())\n",
    "pop2 = df2['popularity']\n",
    "n, bins, patches = plt.hist(x=pop2, bins=40)\n",
    "plt.title('Popularity Distribution')\n",
    "plt.xlabel('Popularity Score')\n",
    "plt.ylabel('Count')\n",
    "#There are fewer movies that are highly popular\n",
    "#this is intuitive because most movies are not popular"
   ]
  },
  {
   "cell_type": "markdown",
   "metadata": {},
   "source": [
    "When examining the inner 50%, we can see that there is negative linear relationship between popularity score and count. The more popular a movie is, fewer movies exist with that level of popularity. "
   ]
  },
  {
   "cell_type": "code",
   "execution_count": 16,
   "metadata": {},
   "outputs": [
    {
     "name": "stdout",
     "output_type": "stream",
     "text": [
      "count    4540.000000\n",
      "mean        0.722664\n",
      "std         0.292626\n",
      "min         0.384097\n",
      "25%         0.481688\n",
      "50%         0.630672\n",
      "75%         0.906316\n",
      "max         1.538276\n",
      "Name: popularity, dtype: float64\n"
     ]
    },
    {
     "data": {
      "text/plain": [
       "{'whiskers': [<matplotlib.lines.Line2D at 0x1140c5550>,\n",
       "  <matplotlib.lines.Line2D at 0x1140c5898>],\n",
       " 'caps': [<matplotlib.lines.Line2D at 0x1140c5be0>,\n",
       "  <matplotlib.lines.Line2D at 0x1140c5f28>],\n",
       " 'boxes': [<matplotlib.lines.Line2D at 0x1140c5160>],\n",
       " 'medians': [<matplotlib.lines.Line2D at 0x1141822b0>],\n",
       " 'fliers': [<matplotlib.lines.Line2D at 0x1141825f8>],\n",
       " 'means': []}"
      ]
     },
     "execution_count": 16,
     "metadata": {},
     "output_type": "execute_result"
    },
    {
     "data": {
      "image/png": "[encoded data removed]",
      "text/plain": [
       "<Figure size 432x288 with 1 Axes>"
      ]
     },
     "metadata": {
      "needs_background": "light"
     },
     "output_type": "display_data"
    }
   ],
   "source": [
    "#Boxplot to view distribution and check for outliers\n",
    "print(df2['popularity'].describe())\n",
    "fig1, ax1 = plt.subplots()\n",
    "ax1.set_title('Popularity Boxplot')\n",
    "ax1.set_xlabel('Popularity Score')\n",
    "ax1.boxplot(pop2, vert = False, notch = True)\n",
    "#There are fewer movies that are highly popular\n",
    "#this is intuitive because most movies are not popular"
   ]
  },
  {
   "cell_type": "markdown",
   "metadata": {},
   "source": [
    "This is a boxplot view of the inner 50%. The median popularity score is 0.63. Each quartile increases in size, which confirms that popularity is skewed right. "
   ]
  },
  {
   "cell_type": "code",
   "execution_count": 17,
   "metadata": {},
   "outputs": [],
   "source": [
    "#Exploratory Data Analysis"
   ]
  },
  {
   "cell_type": "code",
   "execution_count": 19,
   "metadata": {},
   "outputs": [],
   "source": [
    "#Remove erroneous zero budget / revenue values\n",
    "df2 = df[(df.budget_adj != 0) & (df.revenue_adj != 0)]"
   ]
  },
  {
   "cell_type": "code",
   "execution_count": 21,
   "metadata": {},
   "outputs": [
    {
     "name": "stderr",
     "output_type": "stream",
     "text": [
      "/anaconda3/lib/python3.7/site-packages/ipykernel_launcher.py:2: SettingWithCopyWarning: \n",
      "A value is trying to be set on a copy of a slice from a DataFrame.\n",
      "Try using .loc[row_indexer,col_indexer] = value instead\n",
      "\n",
      "See the caveats in the documentation: http://pandas.pydata.org/pandas-docs/stable/indexing.html#indexing-view-versus-copy\n",
      "  \n"
     ]
    },
    {
     "data": {
      "text/html": [
       "<div>\n",
       "<style scoped>\n",
       "    .dataframe tbody tr th:only-of-type {\n",
       "        vertical-align: middle;\n",
       "    }\n",
       "\n",
       "    .dataframe tbody tr th {\n",
       "        vertical-align: top;\n",
       "    }\n",
       "\n",
       "    .dataframe thead th {\n",
       "        text-align: right;\n",
       "    }\n",
       "</style>\n",
       "<table border=\"1\" class=\"dataframe\">\n",
       "  <thead>\n",
       "    <tr style=\"text-align: right;\">\n",
       "      <th></th>\n",
       "      <th>id</th>\n",
       "      <th>imdb_id</th>\n",
       "      <th>popularity</th>\n",
       "      <th>budget</th>\n",
       "      <th>revenue</th>\n",
       "      <th>original_title</th>\n",
       "      <th>cast</th>\n",
       "      <th>homepage</th>\n",
       "      <th>director</th>\n",
       "      <th>tagline</th>\n",
       "      <th>...</th>\n",
       "      <th>runtime</th>\n",
       "      <th>genres</th>\n",
       "      <th>production_companies</th>\n",
       "      <th>release_date</th>\n",
       "      <th>vote_count</th>\n",
       "      <th>vote_average</th>\n",
       "      <th>release_year</th>\n",
       "      <th>budget_adj</th>\n",
       "      <th>revenue_adj</th>\n",
       "      <th>quantile</th>\n",
       "    </tr>\n",
       "  </thead>\n",
       "  <tbody>\n",
       "    <tr>\n",
       "      <th>0</th>\n",
       "      <td>135397</td>\n",
       "      <td>tt0369610</td>\n",
       "      <td>32.985763</td>\n",
       "      <td>150000000</td>\n",
       "      <td>1513528810</td>\n",
       "      <td>Jurassic World</td>\n",
       "      <td>Chris Pratt|Bryce Dallas Howard|Irrfan Khan|Vi...</td>\n",
       "      <td>http://www.jurassicworld.com/</td>\n",
       "      <td>Colin Trevorrow</td>\n",
       "      <td>The park is open.</td>\n",
       "      <td>...</td>\n",
       "      <td>124</td>\n",
       "      <td>Action|Adventure|Science Fiction|Thriller</td>\n",
       "      <td>Universal Studios|Amblin Entertainment|Legenda...</td>\n",
       "      <td>6/9/15</td>\n",
       "      <td>5562</td>\n",
       "      <td>6.5</td>\n",
       "      <td>2015</td>\n",
       "      <td>1.379999e+08</td>\n",
       "      <td>1.392446e+09</td>\n",
       "      <td>Q5</td>\n",
       "    </tr>\n",
       "    <tr>\n",
       "      <th>1</th>\n",
       "      <td>76341</td>\n",
       "      <td>tt1392190</td>\n",
       "      <td>28.419936</td>\n",
       "      <td>150000000</td>\n",
       "      <td>378436354</td>\n",
       "      <td>Mad Max: Fury Road</td>\n",
       "      <td>Tom Hardy|Charlize Theron|Hugh Keays-Byrne|Nic...</td>\n",
       "      <td>http://www.madmaxmovie.com/</td>\n",
       "      <td>George Miller</td>\n",
       "      <td>What a Lovely Day.</td>\n",
       "      <td>...</td>\n",
       "      <td>120</td>\n",
       "      <td>Action|Adventure|Science Fiction|Thriller</td>\n",
       "      <td>Village Roadshow Pictures|Kennedy Miller Produ...</td>\n",
       "      <td>5/13/15</td>\n",
       "      <td>6185</td>\n",
       "      <td>7.1</td>\n",
       "      <td>2015</td>\n",
       "      <td>1.379999e+08</td>\n",
       "      <td>3.481613e+08</td>\n",
       "      <td>Q5</td>\n",
       "    </tr>\n",
       "    <tr>\n",
       "      <th>2</th>\n",
       "      <td>262500</td>\n",
       "      <td>tt2908446</td>\n",
       "      <td>13.112507</td>\n",
       "      <td>110000000</td>\n",
       "      <td>295238201</td>\n",
       "      <td>Insurgent</td>\n",
       "      <td>Shailene Woodley|Theo James|Kate Winslet|Ansel...</td>\n",
       "      <td>http://www.thedivergentseries.movie/#insurgent</td>\n",
       "      <td>Robert Schwentke</td>\n",
       "      <td>One Choice Can Destroy You</td>\n",
       "      <td>...</td>\n",
       "      <td>119</td>\n",
       "      <td>Adventure|Science Fiction|Thriller</td>\n",
       "      <td>Summit Entertainment|Mandeville Films|Red Wago...</td>\n",
       "      <td>3/18/15</td>\n",
       "      <td>2480</td>\n",
       "      <td>6.3</td>\n",
       "      <td>2015</td>\n",
       "      <td>1.012000e+08</td>\n",
       "      <td>2.716190e+08</td>\n",
       "      <td>Q5</td>\n",
       "    </tr>\n",
       "    <tr>\n",
       "      <th>3</th>\n",
       "      <td>140607</td>\n",
       "      <td>tt2488496</td>\n",
       "      <td>11.173104</td>\n",
       "      <td>200000000</td>\n",
       "      <td>2068178225</td>\n",
       "      <td>Star Wars: The Force Awakens</td>\n",
       "      <td>Harrison Ford|Mark Hamill|Carrie Fisher|Adam D...</td>\n",
       "      <td>http://www.starwars.com/films/star-wars-episod...</td>\n",
       "      <td>J.J. Abrams</td>\n",
       "      <td>Every generation has a story.</td>\n",
       "      <td>...</td>\n",
       "      <td>136</td>\n",
       "      <td>Action|Adventure|Science Fiction|Fantasy</td>\n",
       "      <td>Lucasfilm|Truenorth Productions|Bad Robot</td>\n",
       "      <td>12/15/15</td>\n",
       "      <td>5292</td>\n",
       "      <td>7.5</td>\n",
       "      <td>2015</td>\n",
       "      <td>1.839999e+08</td>\n",
       "      <td>1.902723e+09</td>\n",
       "      <td>Q5</td>\n",
       "    </tr>\n",
       "    <tr>\n",
       "      <th>4</th>\n",
       "      <td>168259</td>\n",
       "      <td>tt2820852</td>\n",
       "      <td>9.335014</td>\n",
       "      <td>190000000</td>\n",
       "      <td>1506249360</td>\n",
       "      <td>Furious 7</td>\n",
       "      <td>Vin Diesel|Paul Walker|Jason Statham|Michelle ...</td>\n",
       "      <td>http://www.furious7.com/</td>\n",
       "      <td>James Wan</td>\n",
       "      <td>Vengeance Hits Home</td>\n",
       "      <td>...</td>\n",
       "      <td>137</td>\n",
       "      <td>Action|Crime|Thriller</td>\n",
       "      <td>Universal Pictures|Original Film|Media Rights ...</td>\n",
       "      <td>4/1/15</td>\n",
       "      <td>2947</td>\n",
       "      <td>7.3</td>\n",
       "      <td>2015</td>\n",
       "      <td>1.747999e+08</td>\n",
       "      <td>1.385749e+09</td>\n",
       "      <td>Q5</td>\n",
       "    </tr>\n",
       "  </tbody>\n",
       "</table>\n",
       "<p>5 rows × 22 columns</p>\n",
       "</div>"
      ],
      "text/plain": [
       "       id    imdb_id  popularity     budget     revenue  \\\n",
       "0  135397  tt0369610   32.985763  150000000  1513528810   \n",
       "1   76341  tt1392190   28.419936  150000000   378436354   \n",
       "2  262500  tt2908446   13.112507  110000000   295238201   \n",
       "3  140607  tt2488496   11.173104  200000000  2068178225   \n",
       "4  168259  tt2820852    9.335014  190000000  1506249360   \n",
       "\n",
       "                 original_title  \\\n",
       "0                Jurassic World   \n",
       "1            Mad Max: Fury Road   \n",
       "2                     Insurgent   \n",
       "3  Star Wars: The Force Awakens   \n",
       "4                     Furious 7   \n",
       "\n",
       "                                                cast  \\\n",
       "0  Chris Pratt|Bryce Dallas Howard|Irrfan Khan|Vi...   \n",
       "1  Tom Hardy|Charlize Theron|Hugh Keays-Byrne|Nic...   \n",
       "2  Shailene Woodley|Theo James|Kate Winslet|Ansel...   \n",
       "3  Harrison Ford|Mark Hamill|Carrie Fisher|Adam D...   \n",
       "4  Vin Diesel|Paul Walker|Jason Statham|Michelle ...   \n",
       "\n",
       "                                            homepage          director  \\\n",
       "0                      http://www.jurassicworld.com/   Colin Trevorrow   \n",
       "1                        http://www.madmaxmovie.com/     George Miller   \n",
       "2     http://www.thedivergentseries.movie/#insurgent  Robert Schwentke   \n",
       "3  http://www.starwars.com/films/star-wars-episod...       J.J. Abrams   \n",
       "4                           http://www.furious7.com/         James Wan   \n",
       "\n",
       "                         tagline    ...    runtime  \\\n",
       "0              The park is open.    ...        124   \n",
       "1             What a Lovely Day.    ...        120   \n",
       "2     One Choice Can Destroy You    ...        119   \n",
       "3  Every generation has a story.    ...        136   \n",
       "4            Vengeance Hits Home    ...        137   \n",
       "\n",
       "                                      genres  \\\n",
       "0  Action|Adventure|Science Fiction|Thriller   \n",
       "1  Action|Adventure|Science Fiction|Thriller   \n",
       "2         Adventure|Science Fiction|Thriller   \n",
       "3   Action|Adventure|Science Fiction|Fantasy   \n",
       "4                      Action|Crime|Thriller   \n",
       "\n",
       "                                production_companies release_date vote_count  \\\n",
       "0  Universal Studios|Amblin Entertainment|Legenda...       6/9/15       5562   \n",
       "1  Village Roadshow Pictures|Kennedy Miller Produ...      5/13/15       6185   \n",
       "2  Summit Entertainment|Mandeville Films|Red Wago...      3/18/15       2480   \n",
       "3          Lucasfilm|Truenorth Productions|Bad Robot     12/15/15       5292   \n",
       "4  Universal Pictures|Original Film|Media Rights ...       4/1/15       2947   \n",
       "\n",
       "  vote_average  release_year    budget_adj   revenue_adj  quantile  \n",
       "0          6.5          2015  1.379999e+08  1.392446e+09        Q5  \n",
       "1          7.1          2015  1.379999e+08  3.481613e+08        Q5  \n",
       "2          6.3          2015  1.012000e+08  2.716190e+08        Q5  \n",
       "3          7.5          2015  1.839999e+08  1.902723e+09        Q5  \n",
       "4          7.3          2015  1.747999e+08  1.385749e+09        Q5  \n",
       "\n",
       "[5 rows x 22 columns]"
      ]
     },
     "execution_count": 21,
     "metadata": {},
     "output_type": "execute_result"
    }
   ],
   "source": [
    "#Split the data into quintiles by popularity to see how groups behave on average\n",
    "df2['quantile'] = pd.qcut(df2['popularity'],5,labels=[\"Q1\",\"Q2\",\"Q3\",\"Q4\",\"Q5\"])\n",
    "df2.head()"
   ]
  },
  {
   "cell_type": "code",
   "execution_count": 23,
   "metadata": {},
   "outputs": [
    {
     "data": {
      "text/html": [
       "<div>\n",
       "<style scoped>\n",
       "    .dataframe tbody tr th:only-of-type {\n",
       "        vertical-align: middle;\n",
       "    }\n",
       "\n",
       "    .dataframe tbody tr th {\n",
       "        vertical-align: top;\n",
       "    }\n",
       "\n",
       "    .dataframe thead th {\n",
       "        text-align: right;\n",
       "    }\n",
       "</style>\n",
       "<table border=\"1\" class=\"dataframe\">\n",
       "  <thead>\n",
       "    <tr style=\"text-align: right;\">\n",
       "      <th></th>\n",
       "      <th>id</th>\n",
       "      <th>imdb_id</th>\n",
       "      <th>popularity</th>\n",
       "      <th>budget</th>\n",
       "      <th>revenue</th>\n",
       "      <th>original_title</th>\n",
       "      <th>cast</th>\n",
       "      <th>homepage</th>\n",
       "      <th>director</th>\n",
       "      <th>tagline</th>\n",
       "      <th>...</th>\n",
       "      <th>runtime</th>\n",
       "      <th>genres</th>\n",
       "      <th>production_companies</th>\n",
       "      <th>release_date</th>\n",
       "      <th>vote_count</th>\n",
       "      <th>vote_average</th>\n",
       "      <th>release_year</th>\n",
       "      <th>budget_adj</th>\n",
       "      <th>revenue_adj</th>\n",
       "      <th>quantile</th>\n",
       "    </tr>\n",
       "  </thead>\n",
       "  <tbody>\n",
       "    <tr>\n",
       "      <th>3581</th>\n",
       "      <td>59296</td>\n",
       "      <td>tt1436559</td>\n",
       "      <td>0.520430</td>\n",
       "      <td>1</td>\n",
       "      <td>1378</td>\n",
       "      <td>Love, Wedding, Marriage</td>\n",
       "      <td>Mandy Moore|Kellan Lutz|Jessica Szohr|Autumn F...</td>\n",
       "      <td>http://www.ifcfilms.com/films/love-wedding-mar...</td>\n",
       "      <td>Dermot Mulroney</td>\n",
       "      <td>Here comes the ride.</td>\n",
       "      <td>...</td>\n",
       "      <td>90</td>\n",
       "      <td>Comedy|Romance</td>\n",
       "      <td>120dB Films|Scion Films|Voodoo Production Serv...</td>\n",
       "      <td>6/3/11</td>\n",
       "      <td>55</td>\n",
       "      <td>5.3</td>\n",
       "      <td>2011</td>\n",
       "      <td>0.969398</td>\n",
       "      <td>1335.830503</td>\n",
       "      <td>Q2</td>\n",
       "    </tr>\n",
       "    <tr>\n",
       "      <th>2618</th>\n",
       "      <td>39964</td>\n",
       "      <td>tt0120836</td>\n",
       "      <td>0.090186</td>\n",
       "      <td>1</td>\n",
       "      <td>100</td>\n",
       "      <td>Lost &amp; Found</td>\n",
       "      <td>David Spade|Sophie Marceau|Ever Carradine|Step...</td>\n",
       "      <td>NaN</td>\n",
       "      <td>Jeff Pollack</td>\n",
       "      <td>A comedy about a guy who would do anything to ...</td>\n",
       "      <td>...</td>\n",
       "      <td>95</td>\n",
       "      <td>Comedy|Romance</td>\n",
       "      <td>Alcon Entertainment|Dinamo Entertainment</td>\n",
       "      <td>4/23/99</td>\n",
       "      <td>14</td>\n",
       "      <td>4.8</td>\n",
       "      <td>1999</td>\n",
       "      <td>1.309053</td>\n",
       "      <td>130.905285</td>\n",
       "      <td>Q1</td>\n",
       "    </tr>\n",
       "    <tr>\n",
       "      <th>2398</th>\n",
       "      <td>39356</td>\n",
       "      <td>tt1560139</td>\n",
       "      <td>0.028456</td>\n",
       "      <td>3</td>\n",
       "      <td>43</td>\n",
       "      <td>Boy</td>\n",
       "      <td>James Rolleston|Craig Hall|Taika Waititi|Te Ah...</td>\n",
       "      <td>http://www.boythemovie.co.nz</td>\n",
       "      <td>Taika Waititi</td>\n",
       "      <td>Summer, Girls, Gangs, Drugs ... its not easy b...</td>\n",
       "      <td>...</td>\n",
       "      <td>87</td>\n",
       "      <td>Drama|Comedy</td>\n",
       "      <td>New Zealand Film Commission|Unison Films|Whenu...</td>\n",
       "      <td>2/14/10</td>\n",
       "      <td>26</td>\n",
       "      <td>7.3</td>\n",
       "      <td>2010</td>\n",
       "      <td>3.000000</td>\n",
       "      <td>43.000000</td>\n",
       "      <td>Q1</td>\n",
       "    </tr>\n",
       "    <tr>\n",
       "      <th>8944</th>\n",
       "      <td>14373</td>\n",
       "      <td>tt0082250</td>\n",
       "      <td>0.464188</td>\n",
       "      <td>2</td>\n",
       "      <td>16</td>\n",
       "      <td>Death Wish 2</td>\n",
       "      <td>Charles Bronson|Jill Ireland|Vincent Gardenia|...</td>\n",
       "      <td>NaN</td>\n",
       "      <td>Michael Winner</td>\n",
       "      <td>First His Wife. Now His Daughter. It's Time To...</td>\n",
       "      <td>...</td>\n",
       "      <td>88</td>\n",
       "      <td>Action|Crime|Thriller</td>\n",
       "      <td>Cannon Films</td>\n",
       "      <td>2/20/82</td>\n",
       "      <td>27</td>\n",
       "      <td>5.6</td>\n",
       "      <td>1982</td>\n",
       "      <td>4.519285</td>\n",
       "      <td>36.154278</td>\n",
       "      <td>Q2</td>\n",
       "    </tr>\n",
       "    <tr>\n",
       "      <th>10050</th>\n",
       "      <td>20701</td>\n",
       "      <td>tt0100740</td>\n",
       "      <td>0.317091</td>\n",
       "      <td>3</td>\n",
       "      <td>16</td>\n",
       "      <td>Tales from the Darkside: The Movie</td>\n",
       "      <td>Rae Dawn Chong|Christian Slater|Deborah Harry|...</td>\n",
       "      <td>NaN</td>\n",
       "      <td>John Harrison</td>\n",
       "      <td>From the depths of four twisted minds.</td>\n",
       "      <td>...</td>\n",
       "      <td>93</td>\n",
       "      <td>Fantasy|Horror|Comedy</td>\n",
       "      <td>Paramount Pictures|Laurel Productions|Darkside...</td>\n",
       "      <td>5/3/90</td>\n",
       "      <td>37</td>\n",
       "      <td>5.8</td>\n",
       "      <td>1990</td>\n",
       "      <td>5.006696</td>\n",
       "      <td>26.702377</td>\n",
       "      <td>Q1</td>\n",
       "    </tr>\n",
       "  </tbody>\n",
       "</table>\n",
       "<p>5 rows × 22 columns</p>\n",
       "</div>"
      ],
      "text/plain": [
       "          id    imdb_id  popularity  budget  revenue  \\\n",
       "3581   59296  tt1436559    0.520430       1     1378   \n",
       "2618   39964  tt0120836    0.090186       1      100   \n",
       "2398   39356  tt1560139    0.028456       3       43   \n",
       "8944   14373  tt0082250    0.464188       2       16   \n",
       "10050  20701  tt0100740    0.317091       3       16   \n",
       "\n",
       "                           original_title  \\\n",
       "3581              Love, Wedding, Marriage   \n",
       "2618                         Lost & Found   \n",
       "2398                                  Boy   \n",
       "8944                         Death Wish 2   \n",
       "10050  Tales from the Darkside: The Movie   \n",
       "\n",
       "                                                    cast  \\\n",
       "3581   Mandy Moore|Kellan Lutz|Jessica Szohr|Autumn F...   \n",
       "2618   David Spade|Sophie Marceau|Ever Carradine|Step...   \n",
       "2398   James Rolleston|Craig Hall|Taika Waititi|Te Ah...   \n",
       "8944   Charles Bronson|Jill Ireland|Vincent Gardenia|...   \n",
       "10050  Rae Dawn Chong|Christian Slater|Deborah Harry|...   \n",
       "\n",
       "                                                homepage         director  \\\n",
       "3581   http://www.ifcfilms.com/films/love-wedding-mar...  Dermot Mulroney   \n",
       "2618                                                 NaN     Jeff Pollack   \n",
       "2398                        http://www.boythemovie.co.nz    Taika Waititi   \n",
       "8944                                                 NaN   Michael Winner   \n",
       "10050                                                NaN    John Harrison   \n",
       "\n",
       "                                                 tagline    ...    runtime  \\\n",
       "3581                                Here comes the ride.    ...         90   \n",
       "2618   A comedy about a guy who would do anything to ...    ...         95   \n",
       "2398   Summer, Girls, Gangs, Drugs ... its not easy b...    ...         87   \n",
       "8944   First His Wife. Now His Daughter. It's Time To...    ...         88   \n",
       "10050             From the depths of four twisted minds.    ...         93   \n",
       "\n",
       "                      genres  \\\n",
       "3581          Comedy|Romance   \n",
       "2618          Comedy|Romance   \n",
       "2398            Drama|Comedy   \n",
       "8944   Action|Crime|Thriller   \n",
       "10050  Fantasy|Horror|Comedy   \n",
       "\n",
       "                                    production_companies release_date  \\\n",
       "3581   120dB Films|Scion Films|Voodoo Production Serv...       6/3/11   \n",
       "2618            Alcon Entertainment|Dinamo Entertainment      4/23/99   \n",
       "2398   New Zealand Film Commission|Unison Films|Whenu...      2/14/10   \n",
       "8944                                        Cannon Films      2/20/82   \n",
       "10050  Paramount Pictures|Laurel Productions|Darkside...       5/3/90   \n",
       "\n",
       "      vote_count vote_average  release_year  budget_adj  revenue_adj  quantile  \n",
       "3581          55          5.3          2011    0.969398  1335.830503        Q2  \n",
       "2618          14          4.8          1999    1.309053   130.905285        Q1  \n",
       "2398          26          7.3          2010    3.000000    43.000000        Q1  \n",
       "8944          27          5.6          1982    4.519285    36.154278        Q2  \n",
       "10050         37          5.8          1990    5.006696    26.702377        Q1  \n",
       "\n",
       "[5 rows x 22 columns]"
      ]
     },
     "execution_count": 23,
     "metadata": {},
     "output_type": "execute_result"
    }
   ],
   "source": [
    "#confirm that errous zero budget / revenue movies were removed \n",
    "df2 = df2.sort_values(by='budget_adj')\n",
    "df2.head()"
   ]
  },
  {
   "cell_type": "code",
   "execution_count": 24,
   "metadata": {},
   "outputs": [
    {
     "data": {
      "text/plain": [
       "<matplotlib.collections.PathCollection at 0x1142fdb00>"
      ]
     },
     "execution_count": 24,
     "metadata": {},
     "output_type": "execute_result"
    },
    {
     "data": {
      "image/png": "[encoded data removed]",
      "text/plain": [
       "<Figure size 432x288 with 1 Axes>"
      ]
     },
     "metadata": {
      "needs_background": "light"
     },
     "output_type": "display_data"
    }
   ],
   "source": [
    "#Plot popularity vs budget non outlier movies\n",
    "plt.title(\"Popularity vs Budget for middle 50%\")\n",
    "plt.xlabel(\"Popularity Score\")\n",
    "plt.ylabel(\"Adjusted Budget in dollars\")\n",
    "plt.scatter(df2['popularity'], df2['budget_adj'], s=80, c='b', marker=\"o\")\n",
    "#Difficult to see a trend between popularity and budget"
   ]
  },
  {
   "cell_type": "markdown",
   "metadata": {},
   "source": [
    "We are plotting popularity vs budget to try to determine a relationship. However because of the numerous and cluttered data points it is difficult to see a clear trend. "
   ]
  },
  {
   "cell_type": "code",
   "execution_count": 25,
   "metadata": {},
   "outputs": [],
   "source": [
    "#Calculate average budget and revenue for each quintile\n",
    "budget = df2.groupby('quantile')['budget_adj'].mean()\n",
    "revenue = df2.groupby('quantile')['revenue_adj'].mean()"
   ]
  },
  {
   "cell_type": "code",
   "execution_count": 27,
   "metadata": {},
   "outputs": [
    {
     "data": {
      "image/png": "[encoded data removed]",
      "text/plain": [
       "<Figure size 432x288 with 1 Axes>"
      ]
     },
     "metadata": {
      "needs_background": "light"
     },
     "output_type": "display_data"
    }
   ],
   "source": [
    "n_groups = 5\n",
    "\n",
    "fig, ax = plt.subplots()\n",
    "\n",
    "index = np.arange(n_groups)\n",
    "bar_width = 0.35\n",
    "\n",
    "opacity = 0.4\n",
    "error_config = {'ecolor': '0.3'}\n",
    "\n",
    "rects1 = ax.bar(index, budget, bar_width,\n",
    "                alpha=opacity, color='b', error_kw=error_config,\n",
    "                label='Adjusted Budget')\n",
    "\n",
    "rects2 = ax.bar(index + bar_width, revenue, bar_width,\n",
    "                alpha=opacity, color='r', error_kw=error_config,\n",
    "                label='Adjusted Revenue')\n",
    "\n",
    "ax.set_xlabel('Quantile')\n",
    "ax.set_ylabel('Dollars')\n",
    "ax.set_title('Adjusted and Budget and Revenue by Quantile')\n",
    "ax.set_xticks(index + bar_width / 2)\n",
    "ax.set_xticklabels(('Q1', 'Q2', 'Q3', 'Q4', 'Q5'))\n",
    "ax.legend()\n",
    "\n",
    "fig.tight_layout()\n",
    "plt.show()"
   ]
  },
  {
   "cell_type": "markdown",
   "metadata": {},
   "source": [
    "We can see trends more clearly when data is split into quantiles. More popular movies have larger budgets than less popular movies. More popular movies generate larger revenues than less popular movies. "
   ]
  },
  {
   "cell_type": "code",
   "execution_count": 28,
   "metadata": {},
   "outputs": [
    {
     "data": {
      "text/plain": [
       "<matplotlib.collections.PathCollection at 0x114c3bba8>"
      ]
     },
     "execution_count": 28,
     "metadata": {},
     "output_type": "execute_result"
    },
    {
     "data": {
      "image/png": "[encoded data removed]",
      "text/plain": [
       "<Figure size 432x288 with 1 Axes>"
      ]
     },
     "metadata": {
      "needs_background": "light"
     },
     "output_type": "display_data"
    }
   ],
   "source": [
    "#Popularity vs Runtime for all movies\n",
    "plt.title(\"Popularity vs Runtime for all movies\")\n",
    "plt.xlabel(\"Popularity Score\")\n",
    "plt.ylabel(\"Minutes\")\n",
    "plt.scatter(df2['popularity'], df2['runtime'], s=80, c='g', marker=\"o\")\n",
    "#There are two outliers -- two movies that are really long"
   ]
  },
  {
   "cell_type": "markdown",
   "metadata": {},
   "source": [
    "Popularity is plotted against runtime to try and determine a relationship. The trend is unclear because of the concentration of data points on the left hand side of the graph. "
   ]
  },
  {
   "cell_type": "code",
   "execution_count": 29,
   "metadata": {},
   "outputs": [
    {
     "data": {
      "text/html": [
       "<div>\n",
       "<style scoped>\n",
       "    .dataframe tbody tr th:only-of-type {\n",
       "        vertical-align: middle;\n",
       "    }\n",
       "\n",
       "    .dataframe tbody tr th {\n",
       "        vertical-align: top;\n",
       "    }\n",
       "\n",
       "    .dataframe thead th {\n",
       "        text-align: right;\n",
       "    }\n",
       "</style>\n",
       "<table border=\"1\" class=\"dataframe\">\n",
       "  <thead>\n",
       "    <tr style=\"text-align: right;\">\n",
       "      <th></th>\n",
       "      <th>id</th>\n",
       "      <th>imdb_id</th>\n",
       "      <th>popularity</th>\n",
       "      <th>budget</th>\n",
       "      <th>revenue</th>\n",
       "      <th>original_title</th>\n",
       "      <th>cast</th>\n",
       "      <th>homepage</th>\n",
       "      <th>director</th>\n",
       "      <th>tagline</th>\n",
       "      <th>...</th>\n",
       "      <th>runtime</th>\n",
       "      <th>genres</th>\n",
       "      <th>production_companies</th>\n",
       "      <th>release_date</th>\n",
       "      <th>vote_count</th>\n",
       "      <th>vote_average</th>\n",
       "      <th>release_year</th>\n",
       "      <th>budget_adj</th>\n",
       "      <th>revenue_adj</th>\n",
       "      <th>quantile</th>\n",
       "    </tr>\n",
       "  </thead>\n",
       "  <tbody>\n",
       "    <tr>\n",
       "      <th>5065</th>\n",
       "      <td>16072</td>\n",
       "      <td>tt0279111</td>\n",
       "      <td>0.469518</td>\n",
       "      <td>56000000</td>\n",
       "      <td>12923936</td>\n",
       "      <td>Gods and Generals</td>\n",
       "      <td>Stephen Lang|Jeff Daniels|Robert Duvall|Kevin ...</td>\n",
       "      <td>NaN</td>\n",
       "      <td>Ronald F. Maxwell</td>\n",
       "      <td>The nations heart was touched by...</td>\n",
       "      <td>...</td>\n",
       "      <td>214</td>\n",
       "      <td>Drama|History|War</td>\n",
       "      <td>Turner Pictures|Antietam Filmworks</td>\n",
       "      <td>2/21/03</td>\n",
       "      <td>23</td>\n",
       "      <td>5.8</td>\n",
       "      <td>2003</td>\n",
       "      <td>6.637975e+07</td>\n",
       "      <td>1.531942e+07</td>\n",
       "      <td>Q2</td>\n",
       "    </tr>\n",
       "    <tr>\n",
       "      <th>9850</th>\n",
       "      <td>947</td>\n",
       "      <td>tt0056172</td>\n",
       "      <td>1.168767</td>\n",
       "      <td>15000000</td>\n",
       "      <td>70000000</td>\n",
       "      <td>Lawrence of Arabia</td>\n",
       "      <td>Peter O'Toole|Alec Guinness|Anthony Quinn|Jack...</td>\n",
       "      <td>NaN</td>\n",
       "      <td>David Lean</td>\n",
       "      <td>A Mighty Motion Picture Of Action And Adventure!</td>\n",
       "      <td>...</td>\n",
       "      <td>216</td>\n",
       "      <td>Adventure|Drama|History|War</td>\n",
       "      <td>Horizon Pictures (II)</td>\n",
       "      <td>12/10/62</td>\n",
       "      <td>517</td>\n",
       "      <td>7.5</td>\n",
       "      <td>1962</td>\n",
       "      <td>1.081267e+08</td>\n",
       "      <td>5.045914e+08</td>\n",
       "      <td>Q4</td>\n",
       "    </tr>\n",
       "    <tr>\n",
       "      <th>7332</th>\n",
       "      <td>10935</td>\n",
       "      <td>tt0080855</td>\n",
       "      <td>0.418950</td>\n",
       "      <td>44000000</td>\n",
       "      <td>3484331</td>\n",
       "      <td>Heaven's Gate</td>\n",
       "      <td>Kris Kristofferson|Christopher Walken|John Hur...</td>\n",
       "      <td>NaN</td>\n",
       "      <td>Michael Cimino</td>\n",
       "      <td>The only thing greater than their passion for ...</td>\n",
       "      <td>...</td>\n",
       "      <td>219</td>\n",
       "      <td>Action|Drama|History|Western</td>\n",
       "      <td>United Artists</td>\n",
       "      <td>11/19/80</td>\n",
       "      <td>18</td>\n",
       "      <td>6.0</td>\n",
       "      <td>1980</td>\n",
       "      <td>1.164256e+08</td>\n",
       "      <td>9.219668e+06</td>\n",
       "      <td>Q2</td>\n",
       "    </tr>\n",
       "    <tr>\n",
       "      <th>10443</th>\n",
       "      <td>8095</td>\n",
       "      <td>tt0056937</td>\n",
       "      <td>0.804533</td>\n",
       "      <td>31115000</td>\n",
       "      <td>57750000</td>\n",
       "      <td>Cleopatra</td>\n",
       "      <td>Elizabeth Taylor|Richard Burton|Rex Harrison|R...</td>\n",
       "      <td>NaN</td>\n",
       "      <td>Joseph L. Mankiewicz|Rouben Mamoulian|Darryl F...</td>\n",
       "      <td>The motion picture the world has been waiting ...</td>\n",
       "      <td>...</td>\n",
       "      <td>248</td>\n",
       "      <td>Drama|History|Romance</td>\n",
       "      <td>Twentieth Century Fox Film Corporation|MCL Fil...</td>\n",
       "      <td>6/12/63</td>\n",
       "      <td>68</td>\n",
       "      <td>6.3</td>\n",
       "      <td>1963</td>\n",
       "      <td>2.215444e+08</td>\n",
       "      <td>4.111904e+08</td>\n",
       "      <td>Q3</td>\n",
       "    </tr>\n",
       "    <tr>\n",
       "      <th>2107</th>\n",
       "      <td>43434</td>\n",
       "      <td>tt1321865</td>\n",
       "      <td>0.534192</td>\n",
       "      <td>18000000</td>\n",
       "      <td>871279</td>\n",
       "      <td>Carlos</td>\n",
       "      <td>Edgar RamÃ­rez|Alexander Scheer|Fadi Abi Samra...</td>\n",
       "      <td>NaN</td>\n",
       "      <td>Olivier Assayas</td>\n",
       "      <td>The man who hijacked the world</td>\n",
       "      <td>...</td>\n",
       "      <td>338</td>\n",
       "      <td>Crime|Drama|Thriller|History</td>\n",
       "      <td>Egoli Tossell Film AG|Canal+|Arte France|Films...</td>\n",
       "      <td>5/19/10</td>\n",
       "      <td>35</td>\n",
       "      <td>6.2</td>\n",
       "      <td>2010</td>\n",
       "      <td>1.800000e+07</td>\n",
       "      <td>8.712790e+05</td>\n",
       "      <td>Q2</td>\n",
       "    </tr>\n",
       "  </tbody>\n",
       "</table>\n",
       "<p>5 rows × 22 columns</p>\n",
       "</div>"
      ],
      "text/plain": [
       "          id    imdb_id  popularity    budget   revenue      original_title  \\\n",
       "5065   16072  tt0279111    0.469518  56000000  12923936   Gods and Generals   \n",
       "9850     947  tt0056172    1.168767  15000000  70000000  Lawrence of Arabia   \n",
       "7332   10935  tt0080855    0.418950  44000000   3484331       Heaven's Gate   \n",
       "10443   8095  tt0056937    0.804533  31115000  57750000           Cleopatra   \n",
       "2107   43434  tt1321865    0.534192  18000000    871279              Carlos   \n",
       "\n",
       "                                                    cast homepage  \\\n",
       "5065   Stephen Lang|Jeff Daniels|Robert Duvall|Kevin ...      NaN   \n",
       "9850   Peter O'Toole|Alec Guinness|Anthony Quinn|Jack...      NaN   \n",
       "7332   Kris Kristofferson|Christopher Walken|John Hur...      NaN   \n",
       "10443  Elizabeth Taylor|Richard Burton|Rex Harrison|R...      NaN   \n",
       "2107   Edgar RamÃ­rez|Alexander Scheer|Fadi Abi Samra...      NaN   \n",
       "\n",
       "                                                director  \\\n",
       "5065                                   Ronald F. Maxwell   \n",
       "9850                                          David Lean   \n",
       "7332                                      Michael Cimino   \n",
       "10443  Joseph L. Mankiewicz|Rouben Mamoulian|Darryl F...   \n",
       "2107                                     Olivier Assayas   \n",
       "\n",
       "                                                 tagline    ...    runtime  \\\n",
       "5065                 The nations heart was touched by...    ...        214   \n",
       "9850    A Mighty Motion Picture Of Action And Adventure!    ...        216   \n",
       "7332   The only thing greater than their passion for ...    ...        219   \n",
       "10443  The motion picture the world has been waiting ...    ...        248   \n",
       "2107                      The man who hijacked the world    ...        338   \n",
       "\n",
       "                             genres  \\\n",
       "5065              Drama|History|War   \n",
       "9850    Adventure|Drama|History|War   \n",
       "7332   Action|Drama|History|Western   \n",
       "10443         Drama|History|Romance   \n",
       "2107   Crime|Drama|Thriller|History   \n",
       "\n",
       "                                    production_companies release_date  \\\n",
       "5065                  Turner Pictures|Antietam Filmworks      2/21/03   \n",
       "9850                               Horizon Pictures (II)     12/10/62   \n",
       "7332                                      United Artists     11/19/80   \n",
       "10443  Twentieth Century Fox Film Corporation|MCL Fil...      6/12/63   \n",
       "2107   Egoli Tossell Film AG|Canal+|Arte France|Films...      5/19/10   \n",
       "\n",
       "      vote_count vote_average  release_year    budget_adj   revenue_adj  \\\n",
       "5065          23          5.8          2003  6.637975e+07  1.531942e+07   \n",
       "9850         517          7.5          1962  1.081267e+08  5.045914e+08   \n",
       "7332          18          6.0          1980  1.164256e+08  9.219668e+06   \n",
       "10443         68          6.3          1963  2.215444e+08  4.111904e+08   \n",
       "2107          35          6.2          2010  1.800000e+07  8.712790e+05   \n",
       "\n",
       "       quantile  \n",
       "5065         Q2  \n",
       "9850         Q4  \n",
       "7332         Q2  \n",
       "10443        Q3  \n",
       "2107         Q2  \n",
       "\n",
       "[5 rows x 22 columns]"
      ]
     },
     "execution_count": 29,
     "metadata": {},
     "output_type": "execute_result"
    }
   ],
   "source": [
    "#Sort the values by runtime to determine outliers which is the 338 min movie\n",
    "df2 = df2.sort_values(by='runtime')\n",
    "df2.tail()"
   ]
  },
  {
   "cell_type": "code",
   "execution_count": 30,
   "metadata": {},
   "outputs": [
    {
     "data": {
      "text/html": [
       "<div>\n",
       "<style scoped>\n",
       "    .dataframe tbody tr th:only-of-type {\n",
       "        vertical-align: middle;\n",
       "    }\n",
       "\n",
       "    .dataframe tbody tr th {\n",
       "        vertical-align: top;\n",
       "    }\n",
       "\n",
       "    .dataframe thead th {\n",
       "        text-align: right;\n",
       "    }\n",
       "</style>\n",
       "<table border=\"1\" class=\"dataframe\">\n",
       "  <thead>\n",
       "    <tr style=\"text-align: right;\">\n",
       "      <th></th>\n",
       "      <th>id</th>\n",
       "      <th>imdb_id</th>\n",
       "      <th>popularity</th>\n",
       "      <th>budget</th>\n",
       "      <th>revenue</th>\n",
       "      <th>original_title</th>\n",
       "      <th>cast</th>\n",
       "      <th>homepage</th>\n",
       "      <th>director</th>\n",
       "      <th>tagline</th>\n",
       "      <th>...</th>\n",
       "      <th>runtime</th>\n",
       "      <th>genres</th>\n",
       "      <th>production_companies</th>\n",
       "      <th>release_date</th>\n",
       "      <th>vote_count</th>\n",
       "      <th>vote_average</th>\n",
       "      <th>release_year</th>\n",
       "      <th>budget_adj</th>\n",
       "      <th>revenue_adj</th>\n",
       "      <th>quantile</th>\n",
       "    </tr>\n",
       "  </thead>\n",
       "  <tbody>\n",
       "    <tr>\n",
       "      <th>3110</th>\n",
       "      <td>14073</td>\n",
       "      <td>tt0449994</td>\n",
       "      <td>0.389554</td>\n",
       "      <td>8376800</td>\n",
       "      <td>13000000</td>\n",
       "      <td>Jodhaa Akbar</td>\n",
       "      <td>Hrithik Roshan|Aishwarya Rai Bachchan|Sonu Soo...</td>\n",
       "      <td>http://www.jodhaaakbar.com/</td>\n",
       "      <td>Ashutosh Gowariker</td>\n",
       "      <td>NaN</td>\n",
       "      <td>...</td>\n",
       "      <td>213</td>\n",
       "      <td>Action|Adventure|Drama|Foreign|History</td>\n",
       "      <td>UTV Motion Pictures|Ashutosh Gowariker Product...</td>\n",
       "      <td>2/15/08</td>\n",
       "      <td>48</td>\n",
       "      <td>7.8</td>\n",
       "      <td>2008</td>\n",
       "      <td>8.483911e+06</td>\n",
       "      <td>1.316623e+07</td>\n",
       "      <td>Q1</td>\n",
       "    </tr>\n",
       "    <tr>\n",
       "      <th>5065</th>\n",
       "      <td>16072</td>\n",
       "      <td>tt0279111</td>\n",
       "      <td>0.469518</td>\n",
       "      <td>56000000</td>\n",
       "      <td>12923936</td>\n",
       "      <td>Gods and Generals</td>\n",
       "      <td>Stephen Lang|Jeff Daniels|Robert Duvall|Kevin ...</td>\n",
       "      <td>NaN</td>\n",
       "      <td>Ronald F. Maxwell</td>\n",
       "      <td>The nations heart was touched by...</td>\n",
       "      <td>...</td>\n",
       "      <td>214</td>\n",
       "      <td>Drama|History|War</td>\n",
       "      <td>Turner Pictures|Antietam Filmworks</td>\n",
       "      <td>2/21/03</td>\n",
       "      <td>23</td>\n",
       "      <td>5.8</td>\n",
       "      <td>2003</td>\n",
       "      <td>6.637975e+07</td>\n",
       "      <td>1.531942e+07</td>\n",
       "      <td>Q2</td>\n",
       "    </tr>\n",
       "    <tr>\n",
       "      <th>9850</th>\n",
       "      <td>947</td>\n",
       "      <td>tt0056172</td>\n",
       "      <td>1.168767</td>\n",
       "      <td>15000000</td>\n",
       "      <td>70000000</td>\n",
       "      <td>Lawrence of Arabia</td>\n",
       "      <td>Peter O'Toole|Alec Guinness|Anthony Quinn|Jack...</td>\n",
       "      <td>NaN</td>\n",
       "      <td>David Lean</td>\n",
       "      <td>A Mighty Motion Picture Of Action And Adventure!</td>\n",
       "      <td>...</td>\n",
       "      <td>216</td>\n",
       "      <td>Adventure|Drama|History|War</td>\n",
       "      <td>Horizon Pictures (II)</td>\n",
       "      <td>12/10/62</td>\n",
       "      <td>517</td>\n",
       "      <td>7.5</td>\n",
       "      <td>1962</td>\n",
       "      <td>1.081267e+08</td>\n",
       "      <td>5.045914e+08</td>\n",
       "      <td>Q4</td>\n",
       "    </tr>\n",
       "    <tr>\n",
       "      <th>7332</th>\n",
       "      <td>10935</td>\n",
       "      <td>tt0080855</td>\n",
       "      <td>0.418950</td>\n",
       "      <td>44000000</td>\n",
       "      <td>3484331</td>\n",
       "      <td>Heaven's Gate</td>\n",
       "      <td>Kris Kristofferson|Christopher Walken|John Hur...</td>\n",
       "      <td>NaN</td>\n",
       "      <td>Michael Cimino</td>\n",
       "      <td>The only thing greater than their passion for ...</td>\n",
       "      <td>...</td>\n",
       "      <td>219</td>\n",
       "      <td>Action|Drama|History|Western</td>\n",
       "      <td>United Artists</td>\n",
       "      <td>11/19/80</td>\n",
       "      <td>18</td>\n",
       "      <td>6.0</td>\n",
       "      <td>1980</td>\n",
       "      <td>1.164256e+08</td>\n",
       "      <td>9.219668e+06</td>\n",
       "      <td>Q2</td>\n",
       "    </tr>\n",
       "    <tr>\n",
       "      <th>10443</th>\n",
       "      <td>8095</td>\n",
       "      <td>tt0056937</td>\n",
       "      <td>0.804533</td>\n",
       "      <td>31115000</td>\n",
       "      <td>57750000</td>\n",
       "      <td>Cleopatra</td>\n",
       "      <td>Elizabeth Taylor|Richard Burton|Rex Harrison|R...</td>\n",
       "      <td>NaN</td>\n",
       "      <td>Joseph L. Mankiewicz|Rouben Mamoulian|Darryl F...</td>\n",
       "      <td>The motion picture the world has been waiting ...</td>\n",
       "      <td>...</td>\n",
       "      <td>248</td>\n",
       "      <td>Drama|History|Romance</td>\n",
       "      <td>Twentieth Century Fox Film Corporation|MCL Fil...</td>\n",
       "      <td>6/12/63</td>\n",
       "      <td>68</td>\n",
       "      <td>6.3</td>\n",
       "      <td>1963</td>\n",
       "      <td>2.215444e+08</td>\n",
       "      <td>4.111904e+08</td>\n",
       "      <td>Q3</td>\n",
       "    </tr>\n",
       "  </tbody>\n",
       "</table>\n",
       "<p>5 rows × 22 columns</p>\n",
       "</div>"
      ],
      "text/plain": [
       "          id    imdb_id  popularity    budget   revenue      original_title  \\\n",
       "3110   14073  tt0449994    0.389554   8376800  13000000        Jodhaa Akbar   \n",
       "5065   16072  tt0279111    0.469518  56000000  12923936   Gods and Generals   \n",
       "9850     947  tt0056172    1.168767  15000000  70000000  Lawrence of Arabia   \n",
       "7332   10935  tt0080855    0.418950  44000000   3484331       Heaven's Gate   \n",
       "10443   8095  tt0056937    0.804533  31115000  57750000           Cleopatra   \n",
       "\n",
       "                                                    cast  \\\n",
       "3110   Hrithik Roshan|Aishwarya Rai Bachchan|Sonu Soo...   \n",
       "5065   Stephen Lang|Jeff Daniels|Robert Duvall|Kevin ...   \n",
       "9850   Peter O'Toole|Alec Guinness|Anthony Quinn|Jack...   \n",
       "7332   Kris Kristofferson|Christopher Walken|John Hur...   \n",
       "10443  Elizabeth Taylor|Richard Burton|Rex Harrison|R...   \n",
       "\n",
       "                          homepage  \\\n",
       "3110   http://www.jodhaaakbar.com/   \n",
       "5065                           NaN   \n",
       "9850                           NaN   \n",
       "7332                           NaN   \n",
       "10443                          NaN   \n",
       "\n",
       "                                                director  \\\n",
       "3110                                  Ashutosh Gowariker   \n",
       "5065                                   Ronald F. Maxwell   \n",
       "9850                                          David Lean   \n",
       "7332                                      Michael Cimino   \n",
       "10443  Joseph L. Mankiewicz|Rouben Mamoulian|Darryl F...   \n",
       "\n",
       "                                                 tagline    ...    runtime  \\\n",
       "3110                                                 NaN    ...        213   \n",
       "5065                 The nations heart was touched by...    ...        214   \n",
       "9850    A Mighty Motion Picture Of Action And Adventure!    ...        216   \n",
       "7332   The only thing greater than their passion for ...    ...        219   \n",
       "10443  The motion picture the world has been waiting ...    ...        248   \n",
       "\n",
       "                                       genres  \\\n",
       "3110   Action|Adventure|Drama|Foreign|History   \n",
       "5065                        Drama|History|War   \n",
       "9850              Adventure|Drama|History|War   \n",
       "7332             Action|Drama|History|Western   \n",
       "10443                   Drama|History|Romance   \n",
       "\n",
       "                                    production_companies release_date  \\\n",
       "3110   UTV Motion Pictures|Ashutosh Gowariker Product...      2/15/08   \n",
       "5065                  Turner Pictures|Antietam Filmworks      2/21/03   \n",
       "9850                               Horizon Pictures (II)     12/10/62   \n",
       "7332                                      United Artists     11/19/80   \n",
       "10443  Twentieth Century Fox Film Corporation|MCL Fil...      6/12/63   \n",
       "\n",
       "      vote_count vote_average  release_year    budget_adj   revenue_adj  \\\n",
       "3110          48          7.8          2008  8.483911e+06  1.316623e+07   \n",
       "5065          23          5.8          2003  6.637975e+07  1.531942e+07   \n",
       "9850         517          7.5          1962  1.081267e+08  5.045914e+08   \n",
       "7332          18          6.0          1980  1.164256e+08  9.219668e+06   \n",
       "10443         68          6.3          1963  2.215444e+08  4.111904e+08   \n",
       "\n",
       "       quantile  \n",
       "3110         Q1  \n",
       "5065         Q2  \n",
       "9850         Q4  \n",
       "7332         Q2  \n",
       "10443        Q3  \n",
       "\n",
       "[5 rows x 22 columns]"
      ]
     },
     "execution_count": 30,
     "metadata": {},
     "output_type": "execute_result"
    }
   ],
   "source": [
    "#Drop runtime outliers\n",
    "df2 = df2[(df2.runtime < 337)]\n",
    "df2.tail()\n",
    "#338 runtime values were dropped "
   ]
  },
  {
   "cell_type": "code",
   "execution_count": 31,
   "metadata": {},
   "outputs": [
    {
     "data": {
      "image/png": "[encoded data removed]",
      "text/plain": [
       "<Figure size 432x288 with 1 Axes>"
      ]
     },
     "metadata": {
      "needs_background": "light"
     },
     "output_type": "display_data"
    },
    {
     "data": {
      "text/plain": [
       "quantile\n",
       "Q1    104.795071\n",
       "Q2    106.976623\n",
       "Q3    108.609091\n",
       "Q4    109.002594\n",
       "Q5    116.417639\n",
       "Name: runtime, dtype: float64"
      ]
     },
     "execution_count": 31,
     "metadata": {},
     "output_type": "execute_result"
    }
   ],
   "source": [
    "#Runtime by quintile\n",
    "runtime = df2.groupby('quantile')['runtime'].mean()\n",
    "\n",
    "n_groups = 5\n",
    "\n",
    "fig, ax = plt.subplots()\n",
    "\n",
    "index = np.arange(n_groups)\n",
    "bar_width = 0.35\n",
    "\n",
    "opacity = 0.4\n",
    "error_config = {'ecolor': '0.3'}\n",
    "\n",
    "rects1 = ax.bar(index+bar_width/2, runtime, bar_width,\n",
    "                alpha=opacity, color='b', error_kw=error_config,\n",
    "                label='Runtime')\n",
    "\n",
    "ax.set_xlabel('Quantile')\n",
    "ax.set_ylabel('Minutes')\n",
    "ax.set_title('Runtime by Quintile')\n",
    "ax.set_xticks(index + bar_width / 2)\n",
    "ax.set_xticklabels(('Q1', 'Q2', 'Q3', 'Q4', 'Q5'))\n",
    "ax.legend()\n",
    "fig.tight_layout()\n",
    "plt.show()\n",
    "runtime"
   ]
  },
  {
   "cell_type": "markdown",
   "metadata": {},
   "source": [
    "Breaking the data into quintiles allows us to view the data more clearly. All the bar heights are approximately the same size, so there does not appear to be a relationship between runtime and movie popularity. "
   ]
  },
  {
   "cell_type": "code",
   "execution_count": 32,
   "metadata": {},
   "outputs": [
    {
     "data": {
      "text/plain": [
       "quantile\n",
       "Q1    [[Science Fiction, Animation], [Adventure, Act...\n",
       "Q2    [[Family, Animation], [Music, Animation, Famil...\n",
       "Q3    [[Adventure, Fantasy, Animation, Family], [Wes...\n",
       "Q4    [[Animation, Family], [Drama, Music, Romance],...\n",
       "Q5    [[Family, Animation, Adventure], [Fantasy, Ani...\n",
       "Name: genres, dtype: object"
      ]
     },
     "execution_count": 32,
     "metadata": {},
     "output_type": "execute_result"
    }
   ],
   "source": [
    "df2['genres']\n",
    "df2['genres'] = df2['genres'].str.split('|')\n",
    "df2.groupby('quantile')['genres'].apply(list)"
   ]
  },
  {
   "cell_type": "code",
   "execution_count": 33,
   "metadata": {},
   "outputs": [
    {
     "data": {
      "text/plain": [
       "array([list(['Science Fiction', 'Animation']),\n",
       "       list(['Family', 'Animation']),\n",
       "       list(['Adventure', 'Action', 'Comedy', 'Science Fiction', 'Music']),\n",
       "       ..., list(['Adventure', 'Drama', 'History', 'War']),\n",
       "       list(['Action', 'Drama', 'History', 'Western']),\n",
       "       list(['Drama', 'History', 'Romance'])], dtype=object)"
      ]
     },
     "execution_count": 33,
     "metadata": {},
     "output_type": "execute_result"
    }
   ],
   "source": [
    "df2['genres'].values.reshape(-1)"
   ]
  },
  {
   "cell_type": "code",
   "execution_count": 34,
   "metadata": {},
   "outputs": [
    {
     "data": {
      "text/plain": [
       "(3853, 22)"
      ]
     },
     "execution_count": 34,
     "metadata": {},
     "output_type": "execute_result"
    }
   ],
   "source": [
    "df2.shape"
   ]
  },
  {
   "cell_type": "code",
   "execution_count": null,
   "metadata": {},
   "outputs": [],
   "source": [
    "#Draw Conclusions"
   ]
  },
  {
   "cell_type": "markdown",
   "metadata": {},
   "source": [
    "This report analyzes attributes of popular movies. \n",
    "\n",
    "The dataset is rich and sufficient for gaining greater insight into which factors are related to movie popularity. The original dataset had 10866 observations (movies) and 21 fields that include budget, revenue, runtime, genre, etc. After creating a subset of the inner 50% based on popularity and dropping movies with zero budget / revenue, the final analyzed dataset had 3853 observations and 22 fields (added quintile field). The dataset posed additional challenges because fields such as genre and production company had several attributes separated by |. This will require additional data cleaning and analytical reflection as some movies are listed as multiple genres. \n",
    "\n",
    "More popular movies (higher quintiles) have higher average budgets and average revenues than less popular movies movies in (lower quintiles). There is no obvious relationship between runtime and movie popularity. Next steps of analysis include investigating how genres, production companies, acting casts, and directors contribute to movie popularity. "
   ]
  },
  {
   "cell_type": "code",
   "execution_count": null,
   "metadata": {},
   "outputs": [],
   "source": []
  }
 ],
 "metadata": {
  "kernelspec": {
   "display_name": "Python 3",
   "language": "python",
   "name": "python3"
  },
  "language_info": {
   "codemirror_mode": {
    "name": "ipython",
    "version": 3
   },
   "file_extension": ".py",
   "mimetype": "text/x-python",
   "name": "python",
   "nbconvert_exporter": "python",
   "pygments_lexer": "ipython3",
   "version": "3.7.1"
  }
 },
 "nbformat": 4,
 "nbformat_minor": 2
}
